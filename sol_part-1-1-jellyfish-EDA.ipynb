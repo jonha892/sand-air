{
 "cells": [
  {
   "cell_type": "code",
   "execution_count": null,
   "id": "542e5c43-76ae-423a-87e9-7f882b2ba32d",
   "metadata": {},
   "outputs": [],
   "source": [
    "import glob\n",
    "import os\n",
    "import re\n",
    "\n",
    "import numpy as np\n",
    "import matplotlib.pyplot as plt\n",
    "import seaborn as sns\n",
    "from PIL import Image"
   ]
  },
  {
   "cell_type": "code",
   "execution_count": null,
   "id": "8500026d-c1da-4313-a1a3-31f7a3107d59",
   "metadata": {},
   "outputs": [],
   "source": [
    "!pip install seaborn"
   ]
  },
  {
   "cell_type": "code",
   "execution_count": null,
   "id": "f55a4c83-9d9e-48ef-952b-832c66382e47",
   "metadata": {},
   "outputs": [],
   "source": [
    "base_dir = 'data/jellyfish'"
   ]
  },
  {
   "cell_type": "markdown",
   "id": "2bf91a69-b9e4-4737-92cd-d055383f4213",
   "metadata": {},
   "source": [
    "## 1. Was für Daten haben wir eigentlich bekommen?\n",
    "\n",
    "- Welche Unterordner gibt es?\n",
    "- Wie viele Dateien gibt es in jedem Unterordner?\n",
    "- Was hat es mit dem Train_Test_Valid Ordner auf sich?\n",
    "- Was sind `aug-xx-yy.jpg` für dateien?\n",
    "\n",
    "### Hinweise\n",
    "1. `glob` is ein Modul um *pathnames* zu finden.\n",
    "Dabei übergibt man einen eingachen filter-string (keine regex), wobei '*' ein Platzhalter für alles ist.\n",
    "Beispiel `glob.glob('data/jellyfish/*')` findet alle Unterordner. Ein filter der auf `*.jpg` endet findet alle jpg Pfadnamen.\n",
    "\n",
    "2. Einfaches console-print funktioniert ähnlich wie in javascript.\n",
    "Hier mit der `print(...)` Funktion.\n",
    "```python\n",
    "s = f'Eine variable {var_x}, länge einer Liste {len(values)}'\n",
    "# Quasi gleich:\n",
    "print('Eine Variable', var_x, 'länge einer Liste', len(values))\n",
    "print(f'Eine variable {var_x}, länge einer Liste {len(values)}')\n",
    "```\n",
    "    Als alternative mit einer regex gibt es die Kombination aus os.listdir(path) und re.search(r'^(0-9)+\\.jpg'). Da braucht es dann ggf. noch mehr.\n",
    "\n",
    "3. Von allen Programmiersprachen kennt ChatGPT Python am besten.\n",
    "\n",
    "4. alternativ kann man die Fragen auf manuell über den file explorer beantworten"
   ]
  },
  {
   "cell_type": "code",
   "execution_count": null,
   "id": "f24caa8d-7736-420c-89d5-b87c6e3195d0",
   "metadata": {},
   "outputs": [],
   "source": [
    "subfolders = glob.glob(base_dir + '/*')\n",
    "for s in subfolders:\n",
    "    files_in_folder = glob.glob(s + '/*')\n",
    "    print(f'subfolder {s} with {len(files_in_folder)} ')"
   ]
  },
  {
   "cell_type": "code",
   "execution_count": null,
   "id": "ca057a5c-5288-4a87-8e5b-ef5da5ce5275",
   "metadata": {},
   "outputs": [],
   "source": [
    "train_test_val_subfolder = base_dir + '/Train_Test_Valid'\n",
    "for stage in ['Train', 'valid', 'test']:\n",
    "    print('Stage:\\t', stage)\n",
    "    p = train_test_val_subfolder + '/' + stage\n",
    "    subfolders = glob.glob(p + '/*')\n",
    "\n",
    "    for s in subfolders:\n",
    "        files_in_folder = glob.glob(s + '/*')\n",
    "        print(f'subfolder {s} with {len(files_in_folder)} ')"
   ]
  },
  {
   "cell_type": "code",
   "execution_count": null,
   "id": "9de4c37d-6cdf-4ebf-bf43-28c30ca7f1d2",
   "metadata": {},
   "outputs": [],
   "source": [
    "p = 'data/jellyfish/Train_Test_Valid/Train/compass_jellyfish'\n",
    "content = os.listdir(p)\n",
    "aug_files = [s for s in content if re.match(r'.*aug.*$', s)]\n",
    "\n",
    "print('Augmented (train) compass jellyfish', len(aug_files))"
   ]
  },
  {
   "cell_type": "markdown",
   "id": "d1e32bd4-4fc6-4d51-8df9-47a58c2265ea",
   "metadata": {},
   "source": [
    "## Lösung:\n",
    "\n",
    "- Ein Unterordner pro Klasse. Enthält allerdings nur die Trainingsdaten\n",
    "- 150 Train daten pro Klasse, teilweise augmented. Anzahl rohdaten leicht unterschiedlich.\n",
    "- Train_Test_Val Ordner gibt eine Datenunterteilung vor. Könnte man neu mixen.\n",
    "- 'aug'-Datein sind einfache augmentation- Nur Spiegelung. Keine Rotation, sheering, pixel erasing, color shifting etc."
   ]
  },
  {
   "cell_type": "markdown",
   "id": "c0c5bf95-1bc6-4859-98d8-983c44c0b078",
   "metadata": {},
   "source": [
    "## 2. Ein kurzer Blick auf die Bilder\n",
    "- Plotte 3 Bilder pro Klasse\n",
    "- Wie groß sind die Bilder im Durchschnitt (pro Klasse)?\n",
    "- Wie ist die Verteilung der Bildgröße (pro Klasse)?\n",
    "- Bonus: Wie ist das Farbprofil der Bilder\n",
    "\n",
    "### Hinweise:\n",
    "- Pillow images kann man mit matplotlib anzeigen\n",
    "```\n",
    "# Create a figure with three subplots in a single row\n",
    "fig, axes = plt.subplots(1, 3, figsize=(15, 5))\n",
    "\n",
    "# Display each image in a subplot\n",
    "axes[0].imshow(image1)\n",
    "axes[0].axis('off')\n",
    "axes[0].set_title('Image 1')\n",
    "\n",
    "axes[1].imshow(image2)\n",
    "axes[1].axis('off')\n",
    "axes[1].set_title('Image 2')\n",
    "\n",
    "axes[2].imshow(image3)\n",
    "axes[2].axis('off')\n",
    "axes[2].set_title('Image 3')\n",
    "\n",
    "plt.suptitle('Three Images in a Row', fontsize=16)\n",
    "```\n",
    "- Es reicht erstmal nur die train Daten anzuschauen\n",
    "- Um Bilder einzulesen benutzen wir Pillow.\n",
    "  Ein Bild öffnet man so: `Image.open(path)`. Ein Image hat dann eine `size, width, height` properties\n",
    "- ...könnte man auch alles manuell machen."
   ]
  },
  {
   "cell_type": "code",
   "execution_count": null,
   "id": "52951e3f-9bf1-4a13-abc1-560361bf23c4",
   "metadata": {},
   "outputs": [],
   "source": [
    "train_subfolder = base_dir + '/Train_Test_Valid/Train'\n",
    "class_folders = glob.glob(train_subfolder + '/*')\n",
    "\n",
    "def average_color(image):\n",
    "    # Convert the image to a NumPy array\n",
    "    img_array = np.array(image)\n",
    "\n",
    "    # Calculate the average color for each channel (R, G, B)\n",
    "    avg_color = np.mean(img_array, axis=(0, 1))\n",
    "\n",
    "    return avg_color"
   ]
  },
  {
   "cell_type": "code",
   "execution_count": null,
   "id": "36e4b238-915a-4704-a8db-a0fc148c5ef7",
   "metadata": {},
   "outputs": [],
   "source": [
    "for folder in class_folders:\n",
    "    content = glob.glob(folder + '/*')\n",
    "\n",
    "    \n",
    "    i0 = Image.open(content[0])\n",
    "    i1 = Image.open(content[1])\n",
    "    i2 = Image.open(content[2])\n",
    "    \n",
    "    # Create a figure with three subplots in a single row\n",
    "    fig, axes = plt.subplots(1, 3, figsize=(15, 5))\n",
    "    \n",
    "    \n",
    "    # Display each image in a subplot\n",
    "    axes[0].imshow(i0)\n",
    "    axes[0].axis('off')\n",
    "    axes[0].set_title('Image 1')\n",
    "    \n",
    "    axes[1].imshow(i1)\n",
    "    axes[1].axis('off')\n",
    "    axes[1].set_title('Image 2')\n",
    "    \n",
    "    axes[2].imshow(i2)\n",
    "    axes[2].axis('off')\n",
    "    axes[2].set_title('Image 3')\n",
    "    \n",
    "    plt.suptitle(folder, fontsize=16)"
   ]
  },
  {
   "cell_type": "code",
   "execution_count": null,
   "id": "33367385-8cf1-443b-9545-f134e7da2bae",
   "metadata": {},
   "outputs": [],
   "source": [
    "# Shape\n",
    "for folder in class_folders:\n",
    "    content = glob.glob(folder + '/*')\n",
    "    widths = []\n",
    "    heights = []\n",
    "    sizes = []\n",
    "    for file in content:\n",
    "        i = Image.open(file)\n",
    "        w, h = i.size\n",
    "        widths.append(w)\n",
    "        heights.append(h)\n",
    "        sizes.append(w*h)\n",
    "    mean_size = np.mean(sizes)\n",
    "    mean_width = np.mean(widths)\n",
    "    mean_height = np.mean(heights)\n",
    "    print(folder, mean_size, mean_width, mean_height)\n",
    "    print('min/max width', np.min(widths), np.max(widths))\n",
    "    print('min/max height', np.min(heights), np.max(heights))\n",
    "\n",
    "    sns.histplot(widths, bins=30, kde=False, color='skyblue')\n",
    "    plt.title('Histogram using Seaborn')\n",
    "    plt.xlabel('width')\n",
    "    plt.ylabel('Frequency')\n",
    "    plt.show()"
   ]
  },
  {
   "cell_type": "code",
   "execution_count": null,
   "id": "8ae51bdf-c975-48b0-8254-beecd4bb46c6",
   "metadata": {},
   "outputs": [],
   "source": [
    "# Color\n",
    "for folder in class_folders:\n",
    "    content = glob.glob(folder + '/*')\n",
    "    total_red = []\n",
    "    total_green = []\n",
    "    total_blue = []\n",
    "    for file in content:\n",
    "        i = Image.open(file)\n",
    "        avg_color = average_color(i)\n",
    "\n",
    "        total_red += [avg_color[0]]\n",
    "        total_green += [avg_color[1]]\n",
    "        total_blue += [avg_color[2]]\n",
    "\n",
    "    plt.figure(figsize=(15, 5))\n",
    "    plt.subplot(1, 3, 1)\n",
    "    sns.histplot(total_red, bins=30, kde=False, color='skyblue')\n",
    "    plt.title('red')\n",
    "\n",
    "    plt.subplot(1, 3, 2)\n",
    "    sns.histplot(total_green, bins=30, kde=False, color='skyblue')\n",
    "    plt.title('green')\n",
    "\n",
    "    plt.subplot(1, 3, 3)\n",
    "    sns.histplot(total_blue, bins=30, kde=False, color='skyblue')\n",
    "    plt.title('blue')\n",
    "\n",
    "    # Adjust layout and show the plot\n",
    "    plt.tight_layout()\n",
    "    plt.show()"
   ]
  },
  {
   "cell_type": "markdown",
   "id": "315138ba-ae41-413c-8535-75c5651a5902",
   "metadata": {},
   "source": [
    "## Lösung\n",
    "\n",
    "- Quallen haben markante Merkmale\n",
    "- Bilder erscheinen Quadratisch mit einer Größe von etwa 200px\n",
    "- Bilder sind gleich groß. Mit wenigen (einheitlichen ausreißern)\n",
    "- Quallen haben unterschiedliche Faben (duh)"
   ]
  },
  {
   "cell_type": "code",
   "execution_count": null,
   "id": "89f2b05d-2d30-4412-8011-4e7d3ede21b6",
   "metadata": {},
   "outputs": [],
   "source": []
  }
 ],
 "metadata": {
  "kernelspec": {
   "display_name": "Python 3 (ipykernel)",
   "language": "python",
   "name": "python3"
  },
  "language_info": {
   "codemirror_mode": {
    "name": "ipython",
    "version": 3
   },
   "file_extension": ".py",
   "mimetype": "text/x-python",
   "name": "python",
   "nbconvert_exporter": "python",
   "pygments_lexer": "ipython3",
   "version": "3.8.18"
  }
 },
 "nbformat": 4,
 "nbformat_minor": 5
}
